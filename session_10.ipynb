{
 "cells": [
  {
   "cell_type": "code",
   "execution_count": 163,
   "source": [
    "from importlib import reload\r\n",
    "import PolygonSequence_session_10\r\n",
    "import Polygon_session_10\r\n",
    "reload(PolygonSequence_session_10)\r\n",
    "reload(Polygon_session_10)"
   ],
   "outputs": [
    {
     "output_type": "execute_result",
     "data": {
      "text/plain": [
       "<module 'Polygon_session_10' from 'e:\\\\TSAI\\\\EPAi_3\\\\session-10-medonmol\\\\Polygon_session_10.py'>"
      ]
     },
     "metadata": {},
     "execution_count": 163
    }
   ],
   "metadata": {}
  },
  {
   "cell_type": "code",
   "execution_count": 1,
   "source": [
    "from importlib import reload\r\n",
    "import PolygonSequence_session_10\r\n",
    "import Polygon_session_10\r\n",
    "reload(Polygon_session_10)\r\n",
    "reload(PolygonSequence_session_10)"
   ],
   "outputs": [
    {
     "output_type": "execute_result",
     "data": {
      "text/plain": [
       "<module 'PolygonSequence_session_10' from 'e:\\\\TSAI\\\\EPAi_3\\\\session-10-medonmol\\\\PolygonSequence_session_10.py'>"
      ]
     },
     "metadata": {},
     "execution_count": 1
    }
   ],
   "metadata": {}
  },
  {
   "cell_type": "markdown",
   "source": [
    "## Polygon Class"
   ],
   "metadata": {}
  },
  {
   "cell_type": "code",
   "execution_count": 2,
   "source": [
    "poly = Polygon_session_10.Polygon(3, 5)\r\n",
    "print(poly)"
   ],
   "outputs": [
    {
     "output_type": "stream",
     "name": "stdout",
     "text": [
      "A regular polygon with {'_edges': 3, '_vertices': 3, '_edge_length': 8.660254037844386, '_interior_angle': 60.0, '_apothem': 2.5000000000000004, '_area': 32.47595264191645, '_perimeter': 25.980762113533157, '_radius': 5}\n"
     ]
    }
   ],
   "metadata": {}
  },
  {
   "cell_type": "markdown",
   "source": [
    "testing __eq__ and __gt__ methods"
   ],
   "metadata": {}
  },
  {
   "cell_type": "code",
   "execution_count": 3,
   "source": [
    "assert Polygon_session_10.Polygon(10,5) == Polygon_session_10.Polygon(10,5)\r\n",
    "assert Polygon_session_10.Polygon(10,4) != Polygon_session_10.Polygon(5,2)\r\n",
    "assert Polygon_session_10.Polygon(10,4) > Polygon_session_10.Polygon(7,4)"
   ],
   "outputs": [],
   "metadata": {}
  },
  {
   "cell_type": "markdown",
   "source": [
    "## Polygon Sequence Class"
   ],
   "metadata": {}
  },
  {
   "cell_type": "code",
   "execution_count": 4,
   "source": [
    "poly_seq = PolygonSequence_session_10.PolygonSequence(25, 5)"
   ],
   "outputs": [],
   "metadata": {}
  },
  {
   "cell_type": "markdown",
   "source": [
    "accessing sequence object with index"
   ],
   "metadata": {}
  },
  {
   "cell_type": "code",
   "execution_count": 5,
   "source": [
    "poly_seq[0]"
   ],
   "outputs": [
    {
     "output_type": "execute_result",
     "data": {
      "text/plain": [
       "A regular polygon with {'_edges': 3, '_vertices': 3, '_edge_length': 8.660254037844386, '_interior_angle': 60.0, '_apothem': 2.5000000000000004, '_area': 32.47595264191645, '_perimeter': 25.980762113533157, '_radius': 5}"
      ]
     },
     "metadata": {},
     "execution_count": 5
    }
   ],
   "metadata": {}
  },
  {
   "cell_type": "code",
   "execution_count": 6,
   "source": [
    "poly_seq[-1]"
   ],
   "outputs": [
    {
     "output_type": "execute_result",
     "data": {
      "text/plain": [
       "A regular polygon with {'_edges': 25, '_vertices': 25, '_edge_length': 1.2533323356430426, '_interior_angle': 165.6, '_apothem': 4.9605735065723895, '_area': 77.71558973901713, '_perimeter': 31.333308391076066, '_radius': 5}"
      ]
     },
     "metadata": {},
     "execution_count": 6
    }
   ],
   "metadata": {}
  },
  {
   "cell_type": "code",
   "execution_count": 7,
   "source": [
    "len(poly_seq)"
   ],
   "outputs": [
    {
     "output_type": "execute_result",
     "data": {
      "text/plain": [
       "23"
      ]
     },
     "metadata": {},
     "execution_count": 7
    }
   ],
   "metadata": {}
  },
  {
   "cell_type": "code",
   "execution_count": 8,
   "source": [
    "poly_seq[1:10:2]"
   ],
   "outputs": [
    {
     "output_type": "execute_result",
     "data": {
      "text/plain": [
       "[A regular polygon with {'_edges': 3, '_vertices': 3, '_edge_length': 8.660254037844386, '_interior_angle': 60.0, '_apothem': 2.5000000000000004, '_area': 32.47595264191645, '_perimeter': 25.980762113533157, '_radius': 5},\n",
       " A regular polygon with {'_edges': 5, '_vertices': 5, '_edge_length': 5.877852522924732, '_interior_angle': 108.0, '_apothem': 4.045084971874737, '_area': 59.44103226844711, '_perimeter': 29.38926261462366, '_radius': 5},\n",
       " A regular polygon with {'_edges': 7, '_vertices': 7, '_edge_length': 4.3388373911755815, '_interior_angle': 128.57142857142858, '_apothem': 4.504844339512096, '_area': 68.41025471595262, '_perimeter': 30.37186173822907, '_radius': 5},\n",
       " A regular polygon with {'_edges': 9, '_vertices': 9, '_edge_length': 3.420201433256687, '_interior_angle': 140.0, '_apothem': 4.698463103929543, '_area': 72.31360608973567, '_perimeter': 30.781812899310182, '_radius': 5}]"
      ]
     },
     "metadata": {},
     "execution_count": 8
    }
   ],
   "metadata": {}
  },
  {
   "cell_type": "code",
   "execution_count": 11,
   "source": [
    "print(f'index with the highest area/perimeter ratio: ')\r\n",
    "\r\n",
    "print(poly_seq.max_efficiency)"
   ],
   "outputs": [
    {
     "output_type": "stream",
     "name": "stdout",
     "text": [
      "index with the highest area/perimeter ratio: \n",
      "A regular polygon with {'_edges': 25, '_vertices': 25, '_edge_length': 1.2533323356430426, '_interior_angle': 165.6, '_apothem': 4.9605735065723895, '_area': 77.71558973901713, '_perimeter': 31.333308391076066, '_radius': 5}\n"
     ]
    }
   ],
   "metadata": {}
  },
  {
   "cell_type": "code",
   "execution_count": null,
   "source": [],
   "outputs": [],
   "metadata": {}
  },
  {
   "cell_type": "code",
   "execution_count": null,
   "source": [],
   "outputs": [],
   "metadata": {}
  }
 ],
 "metadata": {
  "interpreter": {
   "hash": "9131c53ea609b1c83a4930f9ef9b895156b0f40bc80fb8f9ee0bf5a21c6927cd"
  },
  "kernelspec": {
   "display_name": "Python 3.9.1 64-bit ('base': conda)",
   "name": "python3"
  },
  "language_info": {
   "codemirror_mode": {
    "name": "ipython",
    "version": 3
   },
   "file_extension": ".py",
   "mimetype": "text/x-python",
   "name": "python",
   "nbconvert_exporter": "python",
   "pygments_lexer": "ipython3",
   "version": "3.9.1"
  },
  "orig_nbformat": 4
 },
 "nbformat": 4,
 "nbformat_minor": 2
}